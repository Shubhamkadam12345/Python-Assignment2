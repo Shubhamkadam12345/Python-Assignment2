{
 "cells": [
  {
   "cell_type": "code",
   "execution_count": null,
   "id": "79e6656d-55c2-471b-9e4b-cc6b587a6f33",
   "metadata": {},
   "outputs": [],
   "source": [
    "Q.1"
   ]
  },
  {
   "cell_type": "code",
   "execution_count": null,
   "id": "255706f1-d8a2-45e3-92b3-81b98293e08f",
   "metadata": {},
   "outputs": [],
   "source": [
    "s1= { 2,4,6,8,10 }\n",
    "print ( s1 )\n",
    "print ( type ( s1 ) )"
   ]
  },
  {
   "cell_type": "code",
   "execution_count": 1,
   "id": "15aeb7c8-a2bf-405e-ac09-765e15cdb509",
   "metadata": {},
   "outputs": [
    {
     "ename": "SyntaxError",
     "evalue": "'(' was never closed (2747406450.py, line 1)",
     "output_type": "error",
     "traceback": [
      "\u001b[0;36m  Cell \u001b[0;32mIn[1], line 1\u001b[0;36m\u001b[0m\n\u001b[0;31m    s2 = set ([ USA,CHINA,UK,RUSSIA,INDIA,FRANCE ]\u001b[0m\n\u001b[0m             ^\u001b[0m\n\u001b[0;31mSyntaxError\u001b[0m\u001b[0;31m:\u001b[0m '(' was never closed\n"
     ]
    }
   ],
   "source": [
    "s2 = set ([ USA,CHINA,UK,RUSSIA,INDIA,FRANCE ]\n",
    "          print ( s2 )\n",
    "          print ( s2 )\n",
    "          print ( type ( s2))"
   ]
  },
  {
   "cell_type": "code",
   "execution_count": null,
   "id": "6135c5fd-1775-4278-af95-545781a8ae3e",
   "metadata": {},
   "outputs": [],
   "source": [
    "Q.2"
   ]
  },
  {
   "cell_type": "code",
   "execution_count": 2,
   "id": "be95feb7-90eb-4033-bc30-3e2c3c030038",
   "metadata": {},
   "outputs": [
    {
     "ename": "SyntaxError",
     "evalue": "invalid decimal literal (1042030765.py, line 1)",
     "output_type": "error",
     "traceback": [
      "\u001b[0;36m  Cell \u001b[0;32mIn[2], line 1\u001b[0;36m\u001b[0m\n\u001b[0;31m    1st = [ 2,4,6,8 ]\u001b[0m\n\u001b[0m    ^\u001b[0m\n\u001b[0;31mSyntaxError\u001b[0m\u001b[0;31m:\u001b[0m invalid decimal literal\n"
     ]
    }
   ],
   "source": [
    "1st = [ 2,4,6,8 ]\n",
    "D1 = [ item: item**2 for item in 1st ]\n",
    "print ( D1 )\n",
    "# to creat a dict of only odd elements arr = [ 1,2,3,4,5,6,7,8, ] \n",
    "D2 = { item : ** 2 for item in arr if item % 2 ! = 0 }"
   ]
  },
  {
   "cell_type": "code",
   "execution_count": null,
   "id": "396c430b-4110-4e66-bb18-613eb1bf62d1",
   "metadata": {},
   "outputs": [],
   "source": [
    "Q.3"
   ]
  },
  {
   "cell_type": "code",
   "execution_count": null,
   "id": "dac23ee2-6deb-4576-9f90-095acf848407",
   "metadata": {},
   "outputs": [],
   "source": [
    "a- tuple = ( '1', ;3', '5' ) \n",
    "            an - int= ( a- tuple ( 0 ) \n",
    "                       print ( an- int ) # 1\n",
    "                       "
   ]
  },
  {
   "cell_type": "code",
   "execution_count": null,
   "id": "f9d6ee54-fee6-4374-8fec-d78c6bca5c2d",
   "metadata": {},
   "outputs": [],
   "source": [
    "Q.3"
   ]
  },
  {
   "cell_type": "code",
   "execution_count": null,
   "id": "bbe799e8-827f-41b3-a661-d9f6112a7869",
   "metadata": {},
   "outputs": [],
   "source": [
    "num 1 = [ 1,2,3 ]\n",
    "num 2 = [ 4,5,6]\n",
    "print ( \" original list :\")\n",
    "result = map ( lambda x,y,x\n",
    "print( \" In result : after addinm \n",
    " print ( list ( result )     \n",
    "              "
   ]
  },
  {
   "cell_type": "code",
   "execution_count": null,
   "id": "3dc94ff5-b2c4-46f0-8787-9eda3be3bef3",
   "metadata": {},
   "outputs": [],
   "source": [
    "Q.4"
   ]
  },
  {
   "cell_type": "code",
   "execution_count": null,
   "id": "d2288c55-f039-43af-bc18-bb406f632d8e",
   "metadata": {},
   "outputs": [],
   "source": [
    "sort the both arrays A ( 1,2,3,) \n",
    "B ( 4,5,6 )\n",
    "result =0"
   ]
  },
  {
   "cell_type": "code",
   "execution_count": null,
   "id": "e3c48599-7a96-46d3-ab55-4e866faadeae",
   "metadata": {},
   "outputs": [],
   "source": [
    "A { 1,2,3 ) , B ( 4,5,6) "
   ]
  },
  {
   "cell_type": "code",
   "execution_count": 3,
   "id": "14be7508-04fb-4fcb-a617-093a7808339a",
   "metadata": {},
   "outputs": [
    {
     "ename": "SyntaxError",
     "evalue": "invalid syntax (702720069.py, line 1)",
     "output_type": "error",
     "traceback": [
      "\u001b[0;36m  Cell \u001b[0;32mIn[3], line 1\u001b[0;36m\u001b[0m\n\u001b[0;31m    result = result + A [ 1 ] * B [ n-!-1]\u001b[0m\n\u001b[0m                                      ^\u001b[0m\n\u001b[0;31mSyntaxError\u001b[0m\u001b[0;31m:\u001b[0m invalid syntax\n"
     ]
    }
   ],
   "source": [
    "result = result + A [ 1 ] * B [ n-!-1]\n",
    "= 0+6=6"
   ]
  },
  {
   "cell_type": "code",
   "execution_count": null,
   "id": "853b208f-c88f-4ec0-b1a2-559dd73cb418",
   "metadata": {},
   "outputs": [],
   "source": [
    "Q.5"
   ]
  },
  {
   "cell_type": "code",
   "execution_count": null,
   "id": "d1f1cd05-dafa-4065-b291-a65428ce3bdd",
   "metadata": {},
   "outputs": [],
   "source": [
    "number= int ( input ( \" Enter a number** )\n",
    "if number % 3 == op number % 11 == 0:"
   ]
  },
  {
   "cell_type": "code",
   "execution_count": 4,
   "id": "4c7e2665-b349-45cc-b09f-444ccaa6cf16",
   "metadata": {},
   "outputs": [
    {
     "ename": "SyntaxError",
     "evalue": "unterminated string literal (detected at line 2) (151057688.py, line 2)",
     "output_type": "error",
     "traceback": [
      "\u001b[0;36m  Cell \u001b[0;32mIn[4], line 2\u001b[0;36m\u001b[0m\n\u001b[0;31m    print ( '' Number is not divisible by 3 & 11 \")\u001b[0m\n\u001b[0m                                                 ^\u001b[0m\n\u001b[0;31mSyntaxError\u001b[0m\u001b[0;31m:\u001b[0m unterminated string literal (detected at line 2)\n"
     ]
    }
   ],
   "source": [
    "print ( \" Number is divisible by both 3 and 11 \")\n",
    "print ( '' Number is not divisible by 3 & 11 \")"
   ]
  },
  {
   "cell_type": "code",
   "execution_count": null,
   "id": "fe13f151-29be-42d5-be83-659618bc6d5f",
   "metadata": {},
   "outputs": [],
   "source": [
    " Q.6"
   ]
  },
  {
   "cell_type": "code",
   "execution_count": null,
   "id": "c67ba65d-acb0-4aaa-9d88-74757e8ae885",
   "metadata": {},
   "outputs": [],
   "source": [
    "1) text = [ \" php'' , '' w3r \" python\n",
    "2) print ( \" original list of string :\n",
    "3) print ( texts ) \n",
    "4) result = list ( filter ( lambda x :\n",
    "5) print ( '' \\ n list of palindromes \n",
    "6) print ( result          "
   ]
  }
 ],
 "metadata": {
  "kernelspec": {
   "display_name": "Python 3 (ipykernel)",
   "language": "python",
   "name": "python3"
  },
  "language_info": {
   "codemirror_mode": {
    "name": "ipython",
    "version": 3
   },
   "file_extension": ".py",
   "mimetype": "text/x-python",
   "name": "python",
   "nbconvert_exporter": "python",
   "pygments_lexer": "ipython3",
   "version": "3.10.8"
  }
 },
 "nbformat": 4,
 "nbformat_minor": 5
}
